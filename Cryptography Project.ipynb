{
 "cells": [
  {
   "cell_type": "markdown",
   "id": "ccbd23a1",
   "metadata": {},
   "source": [
    "# CSCI 2820 - LINEAR ALGEBRA - FALL 2024"
   ]
  },
  {
   "cell_type": "markdown",
   "id": "62ff039f",
   "metadata": {},
   "source": [
    "Make sure you fill in any place that says `CODE SOLUTION HERE` or \"CODE SOLUTION HERE\", as well as your NAMES below:"
   ]
  },
  {
   "cell_type": "code",
   "execution_count": 1,
   "id": "65e501d2",
   "metadata": {},
   "outputs": [],
   "source": [
    "NAMES = \"\"\n"
   ]
  },
  {
   "cell_type": "markdown",
   "id": "a1822428",
   "metadata": {},
   "source": [
    "# FINAL PROJECT (Option 2):  Cryptography"
   ]
  },
  {
   "cell_type": "code",
   "execution_count": 2,
   "id": "e994ca63",
   "metadata": {},
   "outputs": [],
   "source": [
    "## This is a Jupyter notebook for the CU Linear Algebra Final Project. \n",
    "## Professor Divya E. Vernerey and Ayush Mishra\n",
    "## Fall 2024"
   ]
  },
  {
   "cell_type": "code",
   "execution_count": 3,
   "id": "cc151938",
   "metadata": {},
   "outputs": [
    {
     "name": "stdout",
     "output_type": "stream",
     "text": [
      "Requirement already satisfied: numpy in /opt/conda/lib/python3.10/site-packages (1.23.5)\n"
     ]
    }
   ],
   "source": [
    "# Add libraries you are using\n",
    "!pip install numpy"
   ]
  },
  {
   "cell_type": "code",
   "execution_count": 4,
   "id": "1ab995f7",
   "metadata": {},
   "outputs": [],
   "source": [
    "import numpy as np"
   ]
  },
  {
   "cell_type": "markdown",
   "id": "c83cf552",
   "metadata": {},
   "source": [
    "# Cryptography with Linear Algebra"
   ]
  },
  {
   "cell_type": "markdown",
   "id": "0fca653e",
   "metadata": {},
   "source": [
    "## Objective\n",
    "In this project, students will explore the fascinating world of cryptography through the lens of linear algebra. They will learn how to encode and decode messages using substitution ciphers, with a special focus on Hill ciphers. This project will enhance their understanding of modular arithmetic and linear transformations while providing practical applications of these mathematical concepts.\n",
    "\n",
    "## Key Concepts\n",
    "\n",
    "- **Enciphering**: The process of converting plaintext (uncoded messages) into ciphertext (encoded messages).\n",
    "- **Deciphering**: The reverse process of enciphering, converting ciphertext back into plaintext.\n",
    "- **Modular Arithmetic**: A system of arithmetic for integers, where numbers \"wrap around\" upon reaching a certain value—the modulus.\n",
    "- **Linear Transformations**: Functions that map vectors to other vectors in a linear manner, preserving vector addition and scalar multiplication.\n",
    "- **Hill n-cipher**: A type of substitution cipher that uses linear algebra concepts, particularly matrix multiplication, to encode messages.\n",
    "- **Digraph**: A pair of letters treated as a single unit in encoding and decoding processes.\n"
   ]
  },
  {
   "cell_type": "markdown",
   "id": "69523249",
   "metadata": {},
   "source": [
    "# Digraphs in Cryptography\n",
    "\n",
    "In cryptography, a **digraph** is a pair of consecutive letters treated as a single unit during the encoding and decoding processes. This approach can enhance security by encoding pairs of letters together, making it more challenging to perform frequency analysis.\n",
    "\n",
    "\n",
    "### Why Use Digraphs?\n",
    "\n",
    "Using digraphs instead of single letters makes cryptographic attacks, like frequency analysis, more difficult. This is because the patterns in pairs of letters (digraphs) are more complex and less predictable than those of individual letters.\n",
    "\n",
    "\n",
    "### Example: Hill Cipher with Digraphs\n",
    "\n",
    "\n",
    "Consider the plaintext message \"MEET\". We will divide this message into digraphs and encode it using a Hill cipher.\n",
    "\n",
    "\n",
    "### Steps to Encode Using Digraphs\n",
    "\n",
    "\n",
    "#### 1. Convert to Numerical Values\n",
    "\n",
    "* Map each letter to a number (A=0, B=1, ..., Z=25).\n",
    "* Example: \"M\" → 12, \"E\" → 4, \"E\" → 4, \"T\" → 19.\n",
    "* Digraphs: [12, 4] for \"ME\" and [4, 19] for \"ET\".\n",
    "\n",
    "\n",
    "#### 2. Matrix Multiplication\n",
    "\n",
    "\n",
    "* Use the key matrix for the Hill cipher to transform the digraphs.\n",
    "* Example key matrix:\n",
    "\n",
    "\n",
    "$$\n",
    "K = \\begin{bmatrix}\n",
    "3 & 10 \\\\\n",
    "4 & 11\n",
    "\\end{bmatrix}\n",
    "$$\n",
    "\n",
    "\n",
    "* Multiply each digraph by the key matrix:\n",
    "\n",
    "\n",
    "$$\n",
    "\\begin{bmatrix}\n",
    "3 & 10 \\\\\n",
    "4 & 11\n",
    "\\end{bmatrix}\n",
    "\\begin{bmatrix}\n",
    "12 \\\\\n",
    "4\n",
    "\\end{bmatrix}\n",
    "= \\begin{bmatrix}\n",
    "56 \\\\\n",
    "64\n",
    "\\end{bmatrix}\n",
    "$$\n",
    "\n",
    "\n",
    "#### 3. Apply Modulo Operation\n",
    "\n",
    "\n",
    "* Apply modulo 26 to the resulting vector to ensure the values stay within the range (0-25):\n",
    "\n",
    "\n",
    "$$\n",
    "\\begin{bmatrix}\n",
    "56 \\\\\n",
    "64\n",
    "\\end{bmatrix}\n",
    "\\mod 26 = \\begin{bmatrix}\n",
    "4 \\\\\n",
    "12\n",
    "\\end{bmatrix}\n",
    "$$\n",
    "\n",
    "\n",
    "#### 4. Convert Back to Letters\n",
    "\n",
    "\n",
    "* Map the numerical values back to letters.\n",
    "* Example: 4 → \"E\" and 12 → \"M\", so the digraph [4, 12] corresponds to \"EM\".\n",
    "\n",
    "\n",
    "### Complete Example\n",
    "\n",
    "\n",
    "Let's encode the entire message \"MEET\" using the Hill cipher.\n",
    "\n",
    "\n",
    "#### Step-by-Step Process:\n",
    "\n",
    "\n",
    "1. **Divide into Digraphs**:\n",
    "   - \"ME\" → [12, 4]\n",
    "   - \"ET\" → [4, 19]\n",
    "\n",
    "2. **Apply Key Matrix**:\n",
    "\n",
    "\n",
    "   - For \"ME\":\n",
    "\n",
    "\n",
    "$$\n",
    "\\begin{bmatrix}\n",
    "3 & 10 \\\\\n",
    "4 & 11\n",
    "\\end{bmatrix}\n",
    "\\begin{bmatrix}\n",
    "12 \\\\\n",
    "4\n",
    "\\end{bmatrix}\n",
    "= \\begin{bmatrix}\n",
    "56 \\\\\n",
    "64\n",
    "\\end{bmatrix}\n",
    "\\mod 26 = \\begin{bmatrix}\n",
    "4 \\\\\n",
    "12\n",
    "\\end{bmatrix}\n",
    "= \"EM\"\n",
    "$$\n",
    "\n",
    "\n",
    "   - For \"ET\":\n",
    "\n",
    "\n",
    "$$\n",
    "\\begin{bmatrix}\n",
    "3 & 10 \\\\\n",
    "4 & 11\n",
    "\\end{bmatrix}\n",
    "\\begin{bmatrix}\n",
    "4 \\\\\n",
    "19\n",
    "\\end{bmatrix}\n",
    "= \\begin{bmatrix}\n",
    "214 \\\\\n",
    "243\n",
    "\\end{bmatrix}\n",
    "\\mod 26 = \\begin{bmatrix}\n",
    "6 \\\\\n",
    "9\n",
    "\\end{bmatrix}\n",
    "= \"GJ\"\n",
    "$$\n",
    "\n",
    "\n",
    "3. **Resulting Ciphertext**:\n",
    "\n",
    "\n",
    "   - The encoded message for \"MEET\" is \"EMGJ\".\n",
    "\n",
    "\n",
    "By understanding and using digraphs, students can appreciate the added complexity and security in cryptographic processes. This example demonstrates how digraphs are used to encode and decode messages using the Hill cipher, enhancing their understanding of cryptography."
   ]
  },
  {
   "cell_type": "markdown",
   "id": "43902074",
   "metadata": {},
   "source": [
    "## Exercises\n",
    "\n",
    "### Exercise 1: Introduction to Hill Cipher\n",
    "**Description**: In this exercise, you will learn the basics of the Hill cipher, a type of polygraphic substitution cipher that uses linear algebra techniques. This will help you understand how to encode and decode messages using matrix multiplication and modular arithmetic.\n",
    "\n",
    "**Tasks**:\n",
    "1. **Understand the Hill Cipher Algorithm**:\n",
    "   - Learn how the Hill cipher uses a matrix (key) to transform plaintext into ciphertext.\n",
    "   - Explore the concepts of digraphs and matrix multiplication in the context of cryptography.\n",
    "2. **Implement Hill Cipher in Python**:\n",
    "   - Write Python functions to encode and decode messages using the Hill cipher.\n",
    "   - Test the implementation with given examples.\n",
    "3. **Practice Problems**:\n",
    "   - Encode the message \"SEND\" using a 2x2 key matrix.\n",
    "   - Decode a given ciphertext using the provided key matrix and verify the result."
   ]
  },
  {
   "cell_type": "markdown",
   "id": "f45b7c1c",
   "metadata": {},
   "source": [
    "> **_NOTE:_**  We have provided you the **mod_inverse** function we you need to implement the rest"
   ]
  },
  {
   "cell_type": "code",
   "execution_count": 5,
   "id": "7212be1c",
   "metadata": {},
   "outputs": [
    {
     "name": "stdout",
     "output_type": "stream",
     "text": [
      "Original message: I Love Linear Algebra\n",
      "Encoded message: None\n",
      "Decoded message: None\n"
     ]
    }
   ],
   "source": [
    "def mod_inverse(a, m):\n",
    "    a = a % m\n",
    "    for x in range(1, m):\n",
    "        if (a * x) % m == 1:\n",
    "            return x\n",
    "    return None\n",
    "\n",
    "def encode_message(message, key_matrix, modulo):\n",
    "    # Convert message to numerical values (A=0, B=1, ..., Z=25)\n",
    "    # Multiply the message vector by the key matrix and apply modulo\n",
    "    # Convert the numerical values back to characters\n",
    "    pass\n",
    "\n",
    "def decode_message(encoded_message, key_matrix, modulo):\n",
    "    # Find the inverse of the key matrix in the modular space\n",
    "    # Convert encoded message to numerical values (A=0, B=1, ..., Z=25)\n",
    "    # Multiply the encoded vector by the inverse key matrix and apply modulo\n",
    "    # Convert the numerical values back to characters\n",
    "    pass\n",
    "\n",
    "# Example usage\n",
    "message = \"I Love Linear Algebra\"\n",
    "key_matrix = np.array([[3, 11], [4, 15]])\n",
    "modulo = 26\n",
    "\n",
    "# complete these functions\n",
    "encoded_message = encode_message(message, key_matrix, modulo)\n",
    "decoded_message = decode_message(encoded_message, key_matrix, modulo)\n",
    "\n",
    "print(f\"Original message: {message}\")\n",
    "print(f\"Encoded message: {encoded_message}\")\n",
    "print(f\"Decoded message: {decoded_message}\")\n"
   ]
  },
  {
   "cell_type": "code",
   "execution_count": 6,
   "id": "2be83e89",
   "metadata": {},
   "outputs": [],
   "source": [
    "## Code solution here."
   ]
  },
  {
   "cell_type": "markdown",
   "id": "3b759901",
   "metadata": {},
   "source": [
    "## Exercise 2: Deciphering an Intercepted Message\n",
    "\n",
    "### Background Information\n",
    "In cryptography, frequency analysis is a technique used to break ciphers by studying the frequency of letters or groups of letters in ciphertext. This method relies on the fact that certain letters and combinations of letters appear more frequently in a given language. By comparing these frequencies in the ciphertext to known frequencies in the plaintext language, we can make educated guesses about the original message.\n",
    "\n",
    "**Common Digraphs in English**:\n",
    "- Common digraphs (pairs of letters) in English include \"TH\", \"HE\", \"IN\", \"ER\", \"AN\", and \"RE\".\n",
    "- For example, in a long English text, \"TH\" might appear frequently, while \"XZ\" might be rare.\n",
    "\n",
    "### Task\n",
    "In this exercise, you will intercept a message that was encoded using a Hill 2-cipher and use frequency analysis to decipher it. You will:\n",
    "1. Perform frequency analysis on the ciphertext to identify common digraphs.\n",
    "2. Use your analysis to guess the corresponding plaintext digraphs.\n",
    "3. Determine the deciphering matrix based on your guesses.\n",
    "4. Decode the message using the deciphering matrix.\n",
    "\n",
    "### Example Steps\n",
    "1. **Frequency Analysis**: Analyze the ciphertext \"SONAFQCHMWPTVEVY\" for the most frequent digraphs.\n",
    "2. **Guesses**: Suppose \"KH\" and \"XW\" are the most frequent digraphs in the ciphertext. You might guess these correspond to \"TH\" and \"HE\" in plaintext.\n",
    "3. **Deciphering Matrix**: Use these guesses to find the matrix that can decipher the message.\n",
    "4. **Decoding**: Apply the deciphering matrix to the ciphertext to retrieve the original message.\n"
   ]
  },
  {
   "cell_type": "code",
   "execution_count": 7,
   "id": "99485b22",
   "metadata": {},
   "outputs": [
    {
     "name": "stdout",
     "output_type": "stream",
     "text": [
      "Decoded message: None\n"
     ]
    }
   ],
   "source": [
    "# (Need to implement this)\n",
    "def frequency_analysis(ciphertext):\n",
    "    # Analyze the frequency of digraphs in the ciphertext\n",
    "    pass\n",
    "\n",
    "# Finding the deciphering matrix\n",
    "def find_deciphering_matrix(ciphertext_digraphs, guessed_plaintext_digraphs):\n",
    "    # Use the guessed plaintext digraphs to determine the deciphering matrix\n",
    "    pass\n",
    "\n",
    "# Example usage\n",
    "ciphertext = \"SONAFQCHMWPTVEVY\"\n",
    "ciphertext_digraphs = frequency_analysis(ciphertext)\n",
    "guessed_plaintext_digraphs = [(\"KH\", \"TH\"), (\"XW\", \"HE\")]\n",
    "\n",
    "# Complete this function\n",
    "deciphering_matrix = find_deciphering_matrix(ciphertext_digraphs, guessed_plaintext_digraphs)\n",
    "decoded_message = decode_message(ciphertext, deciphering_matrix, 26)\n",
    "\n",
    "print(f\"Decoded message: {decoded_message}\")\n"
   ]
  },
  {
   "cell_type": "code",
   "execution_count": 8,
   "id": "3f41ba1b",
   "metadata": {},
   "outputs": [],
   "source": [
    "## Code solution here."
   ]
  },
  {
   "cell_type": "markdown",
   "id": "218b20ae",
   "metadata": {},
   "source": [
    "### Exercise 3: Enhanced Hill Cipher\n",
    "**Description**: This exercise introduces an additional layer of complexity by using multiple matrices to encipher and decipher messages. Students will learn how to apply multiple transformations and understand the impact on the ciphertext.\n",
    "\n",
    "**Tasks**:\n",
    "1. **Enciphering with Multiple Matrices**:\n",
    "   - Learn how to apply two different matrices sequentially to encipher a message.\n",
    "   - Implement the process in Python and encipher the message \"SEND\" using the given matrices.\n",
    "2. **Deciphering Process**:\n",
    "   - Understand the steps required to decipher a message encoded with multiple matrices.\n",
    "   - Implement the deciphering process in Python and decode the given ciphertext.\n",
    "3. **Explore the Impact of Multiple Matrices**:\n",
    "   - Discuss how using multiple matrices enhances the security of the cipher.\n",
    "   - Analyze the conditions under which the matrices are invertible and their impact on the deciphering process."
   ]
  },
  {
   "cell_type": "code",
   "execution_count": 9,
   "id": "21a60b69",
   "metadata": {},
   "outputs": [
    {
     "name": "stdout",
     "output_type": "stream",
     "text": [
      "Encoded message: None\n",
      "Decoded message: None\n"
     ]
    }
   ],
   "source": [
    "# Multi-step encoding\n",
    "def multi_step_encode(message, matrices, moduli):\n",
    "    # Apply multiple matrices in succession to encode the message\n",
    "    pass\n",
    "\n",
    "# Multi-step decoding\n",
    "def multi_step_decode(encoded_message, matrices, moduli):\n",
    "    # Apply the inverse of multiple matrices in succession to decode the message\n",
    "    pass\n",
    "\n",
    "# Example usage\n",
    "message = \"SEND\"\n",
    "matrices = [np.array([[3, 11], [4, 15]]), np.array([[10, 15], [5, 9]])]\n",
    "moduli = [26, 29]\n",
    "\n",
    "# Students complete these functions\n",
    "encoded_message = multi_step_encode(message, matrices, moduli)\n",
    "decoded_message = multi_step_decode(encoded_message, matrices, moduli)\n",
    "\n",
    "print(f\"Encoded message: {encoded_message}\")\n",
    "print(f\"Decoded message: {decoded_message}\")\n"
   ]
  },
  {
   "cell_type": "code",
   "execution_count": 10,
   "id": "4c5c1f13",
   "metadata": {},
   "outputs": [],
   "source": [
    "## Code solution here."
   ]
  },
  {
   "cell_type": "markdown",
   "id": "a149e120",
   "metadata": {},
   "source": [
    "### Exercise 4: Matrix Inversion Modulo Arithmetic\n",
    "**Description**: In this exercise, students will explore the conditions required for a matrix to be invertible in modular arithmetic. They will learn how to calculate the modular inverse and apply it to cryptographic problems.\n",
    "\n",
    "**Tasks**:\n",
    "1. **Understand Matrix Inversion**:\n",
    "   - Review the concept of matrix inversion in linear algebra.\n",
    "   - Learn how to calculate the inverse of a matrix modulo a given integer.\n",
    "2. **Implement Modular Inverse Calculation**:\n",
    "   - Write Python functions to calculate the modular inverse of a matrix.\n",
    "   - Test the implementation with different matrices and moduli.\n",
    "3. **Application in Cryptography**:\n",
    "   - Apply the modular inverse calculation to decrypt ciphertext encoded with a Hill cipher.\n",
    "   - Discuss the significance of matrix invertibility in ensuring the security of cryptographic systems."
   ]
  },
  {
   "cell_type": "code",
   "execution_count": 11,
   "id": "fff6b0e7",
   "metadata": {},
   "outputs": [],
   "source": [
    "## Code solution here."
   ]
  },
  {
   "cell_type": "code",
   "execution_count": 12,
   "id": "408b2034",
   "metadata": {},
   "outputs": [
    {
     "name": "stdout",
     "output_type": "stream",
     "text": [
      "Inverse matrix: None\n"
     ]
    }
   ],
   "source": [
    "# Finding the inverse of a matrix modulo a given number\n",
    "def inverse_matrix_mod(matrix, modulo):\n",
    "    # Find the inverse of the matrix in the modular space\n",
    "    pass\n",
    "\n",
    "# Example usage\n",
    "matrix = np.array([[3, 11], [4, 15]])\n",
    "modulo = 29\n",
    "\n",
    "# Complete these functions\n",
    "\n",
    "inverse_matrix = inverse_matrix_mod(matrix, modulo)\n",
    "print(f\"Inverse matrix: {inverse_matrix}\")\n"
   ]
  },
  {
   "cell_type": "code",
   "execution_count": 13,
   "id": "ccb7618d",
   "metadata": {},
   "outputs": [],
   "source": [
    "## Code solution here."
   ]
  },
  {
   "cell_type": "markdown",
   "id": "80234e47",
   "metadata": {},
   "source": [
    "## Final Discussion: \n",
    "\n",
    "Please provide a 250-300 word report on what you learned from this project. Provide any more details about the project and expand on your favorite part of the project. Include any other information you have about this."
   ]
  },
  {
   "cell_type": "code",
   "execution_count": 14,
   "id": "de1064fc",
   "metadata": {},
   "outputs": [],
   "source": [
    "## Code solution here.\n",
    "\n",
    "## TEST"
   ]
  }
 ],
 "metadata": {
  "kernelspec": {
   "display_name": "Python 3 (ipykernel)",
   "language": "python",
   "name": "python3"
  },
  "language_info": {
   "codemirror_mode": {
    "name": "ipython",
    "version": 3
   },
   "file_extension": ".py",
   "mimetype": "text/x-python",
   "name": "python",
   "nbconvert_exporter": "python",
   "pygments_lexer": "ipython3",
   "version": "3.10.8"
  }
 },
 "nbformat": 4,
 "nbformat_minor": 5
}
